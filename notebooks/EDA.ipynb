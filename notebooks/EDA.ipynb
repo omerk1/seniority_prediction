{
 "cells": [
  {
   "cell_type": "code",
   "execution_count": 457,
   "id": "b5551a8f",
   "metadata": {},
   "outputs": [],
   "source": [
    "import pandas as pd\n",
    "import numpy as np\n",
    "\n",
    "import plotly.express as px\n",
    "import seaborn as sns\n",
    "import matplotlib.pyplot as plt\n",
    "\n",
    "from sklearn.metrics import mean_absolute_error, mean_squared_error, confusion_matrix"
   ]
  },
  {
   "cell_type": "markdown",
   "id": "f8d53739",
   "metadata": {},
   "source": [
    "# Data understanding"
   ]
  },
  {
   "cell_type": "markdown",
   "id": "bd182c8d",
   "metadata": {},
   "source": [
    "## Data loading"
   ]
  },
  {
   "cell_type": "code",
   "execution_count": 368,
   "id": "127a58af",
   "metadata": {},
   "outputs": [
    {
     "data": {
      "text/plain": [
       "(77983, 4)"
      ]
     },
     "execution_count": 368,
     "metadata": {},
     "output_type": "execute_result"
    }
   ],
   "source": [
    "df = pd.read_csv('../data/dataset_tagged.csv')\n",
    "df.shape"
   ]
  },
  {
   "cell_type": "code",
   "execution_count": 369,
   "id": "01314504",
   "metadata": {},
   "outputs": [
    {
     "data": {
      "text/html": [
       "<div>\n",
       "<style scoped>\n",
       "    .dataframe tbody tr th:only-of-type {\n",
       "        vertical-align: middle;\n",
       "    }\n",
       "\n",
       "    .dataframe tbody tr th {\n",
       "        vertical-align: top;\n",
       "    }\n",
       "\n",
       "    .dataframe thead th {\n",
       "        text-align: right;\n",
       "    }\n",
       "</style>\n",
       "<table border=\"1\" class=\"dataframe\">\n",
       "  <thead>\n",
       "    <tr style=\"text-align: right;\">\n",
       "      <th></th>\n",
       "      <th>First Name</th>\n",
       "      <th>Last Name</th>\n",
       "      <th>Management Level</th>\n",
       "      <th>Title</th>\n",
       "    </tr>\n",
       "  </thead>\n",
       "  <tbody>\n",
       "    <tr>\n",
       "      <th>0</th>\n",
       "      <td>Ann</td>\n",
       "      <td>Beard</td>\n",
       "      <td>NaN</td>\n",
       "      <td>Senior Manager, Enterprise Readiness</td>\n",
       "    </tr>\n",
       "    <tr>\n",
       "      <th>1</th>\n",
       "      <td>Christy</td>\n",
       "      <td>Stropes</td>\n",
       "      <td>NaN</td>\n",
       "      <td>Senior Knowledge Management Coordinator</td>\n",
       "    </tr>\n",
       "    <tr>\n",
       "      <th>2</th>\n",
       "      <td>Eric</td>\n",
       "      <td>Kerr</td>\n",
       "      <td>NaN</td>\n",
       "      <td>NaN</td>\n",
       "    </tr>\n",
       "    <tr>\n",
       "      <th>3</th>\n",
       "      <td>Andrew</td>\n",
       "      <td>Beam</td>\n",
       "      <td>NaN</td>\n",
       "      <td>Work At Home Department Manager</td>\n",
       "    </tr>\n",
       "    <tr>\n",
       "      <th>4</th>\n",
       "      <td>Suzana</td>\n",
       "      <td>Djordjevic</td>\n",
       "      <td>Manager-Level</td>\n",
       "      <td>Director of Operations</td>\n",
       "    </tr>\n",
       "  </tbody>\n",
       "</table>\n",
       "</div>"
      ],
      "text/plain": [
       "  First Name   Last Name Management Level  \\\n",
       "0        Ann       Beard              NaN   \n",
       "1    Christy     Stropes              NaN   \n",
       "2       Eric        Kerr              NaN   \n",
       "3     Andrew        Beam              NaN   \n",
       "4     Suzana  Djordjevic    Manager-Level   \n",
       "\n",
       "                                     Title  \n",
       "0     Senior Manager, Enterprise Readiness  \n",
       "1  Senior Knowledge Management Coordinator  \n",
       "2                                      NaN  \n",
       "3          Work At Home Department Manager  \n",
       "4                   Director of Operations  "
      ]
     },
     "execution_count": 369,
     "metadata": {},
     "output_type": "execute_result"
    }
   ],
   "source": [
    "df.head()"
   ]
  },
  {
   "cell_type": "code",
   "execution_count": 370,
   "id": "da413eb9",
   "metadata": {},
   "outputs": [],
   "source": [
    "df = df.rename(\n",
    "    columns={\n",
    "        'Management Level': 'management_level',\n",
    "        'Title': 'title'\n",
    "    }\n",
    ")"
   ]
  },
  {
   "cell_type": "markdown",
   "id": "f6c4d6cd",
   "metadata": {},
   "source": [
    "## Data exploration"
   ]
  },
  {
   "cell_type": "markdown",
   "id": "ec540085",
   "metadata": {},
   "source": [
    "### Missing values"
   ]
  },
  {
   "cell_type": "code",
   "execution_count": 371,
   "id": "f6028f49",
   "metadata": {},
   "outputs": [
    {
     "data": {
      "text/plain": [
       "First Name            37\n",
       "Last Name              0\n",
       "management_level    1807\n",
       "title                403\n",
       "dtype: int64"
      ]
     },
     "execution_count": 371,
     "metadata": {},
     "output_type": "execute_result"
    }
   ],
   "source": [
    "df.isna().sum()"
   ]
  },
  {
   "cell_type": "markdown",
   "id": "b9e6dfb0",
   "metadata": {},
   "source": [
    "### Features"
   ]
  },
  {
   "cell_type": "code",
   "execution_count": 372,
   "id": "d2658ff5",
   "metadata": {},
   "outputs": [
    {
     "data": {
      "text/plain": [
       "(46483,)"
      ]
     },
     "execution_count": 372,
     "metadata": {},
     "output_type": "execute_result"
    }
   ],
   "source": [
    "df['title'].unique().shape"
   ]
  },
  {
   "cell_type": "code",
   "execution_count": 373,
   "id": "afea1540",
   "metadata": {},
   "outputs": [
    {
     "data": {
      "text/plain": [
       "Director-Level    31418\n",
       "VP-Level          29794\n",
       "Manager-Level      7094\n",
       "C-Level            4226\n",
       "Other              3608\n",
       "Director             31\n",
       "Manager               4\n",
       "Non-Manager           1\n",
       "Name: management_level, dtype: int64"
      ]
     },
     "execution_count": 373,
     "metadata": {},
     "output_type": "execute_result"
    }
   ],
   "source": [
    "df['management_level'].value_counts()"
   ]
  },
  {
   "cell_type": "code",
   "execution_count": 374,
   "id": "0f6d7654",
   "metadata": {},
   "outputs": [],
   "source": [
    "# Unify categories\n",
    "\n",
    "df['management_level'] = np.where(\n",
    "    df['management_level'] == 'Non-Manager',\n",
    "    'Other',\n",
    "    df['management_level']\n",
    ")\n",
    "\n",
    "df['management_level'] = np.where(\n",
    "    df['management_level'] == 'Manager',\n",
    "    'Manager-Level',\n",
    "    df['management_level']\n",
    ")\n",
    "\n",
    "df['management_level'] = np.where(\n",
    "    df['management_level'] == 'Director',\n",
    "    'Director-Level',\n",
    "    df['management_level']\n",
    ")\n",
    "\n",
    "\n",
    "# Fill NANs with default value\n",
    "\n",
    "df['management_level'] = np.where(\n",
    "    df['management_level'].isna(),\n",
    "    'Other',\n",
    "    df['management_level']\n",
    ")\n",
    "\n",
    "df['title_filled'] = np.where(\n",
    "    df['title'].isna(),\n",
    "    'None',\n",
    "    df['title']\n",
    ").astype(str)"
   ]
  },
  {
   "cell_type": "code",
   "execution_count": 375,
   "id": "9f5d4646",
   "metadata": {},
   "outputs": [
    {
     "data": {
      "image/png": "[encoded data removed]",
      "text/plain": [
       "<Figure size 1080x360 with 1 Axes>"
      ]
     },
     "metadata": {
      "needs_background": "light"
     },
     "output_type": "display_data"
    }
   ],
   "source": [
    "fig, ax = plt.subplots(figsize=(15, 5))\n",
    "sns.histplot(df['management_level'], discrete=True, ax=ax)\n",
    "plt.show()"
   ]
  },
  {
   "cell_type": "markdown",
   "id": "8d2f79dc",
   "metadata": {},
   "source": [
    "## Keywords-in-title analysis"
   ]
  },
  {
   "cell_type": "markdown",
   "id": "3f95547d",
   "metadata": {},
   "source": [
    "### Add basic rule-of-thumb features"
   ]
  },
  {
   "cell_type": "code",
   "execution_count": 535,
   "id": "134d9e86",
   "metadata": {},
   "outputs": [],
   "source": [
    "relevant_title_parts_per_management_level = {\n",
    "    'c_level': [\n",
    "        'chief', 'ceo', 'cto', 'cpo', 'cso', 'coo', 'cfo', 'cmo', 'cio', 'cao', 'chro',\n",
    "        'president', 'global head'\n",
    "    ],\n",
    "    'vp_level': ['vp', 'vice president', 'vice-president'],\n",
    "    'director_level': ['director', 'dir.', 'directeur'],\n",
    "    'manager_level': ['manager', 'team lead', 'team-lead'],\n",
    "}\n",
    "\n",
    "substrings_to_exclude_per_management_level = {\n",
    "    'c_level': ['coordin', 'director', 'vice'],\n",
    "    'vp_level': [],\n",
    "    'director_level': [],\n",
    "    'manager_level': [],\n",
    "}"
   ]
  },
  {
   "cell_type": "code",
   "execution_count": 536,
   "id": "d07be685",
   "metadata": {},
   "outputs": [],
   "source": [
    "def check_if_title_contains_keyword(title, list_of_keywords):\n",
    "    for keyword in list_of_keywords:\n",
    "        if keyword in title.lower():\n",
    "            return 1\n",
    "    return 0"
   ]
  },
  {
   "cell_type": "code",
   "execution_count": 537,
   "id": "ac53ce4e",
   "metadata": {},
   "outputs": [],
   "source": [
    "for level, list_of_keywords in relevant_title_parts_per_management_level.items():\n",
    "    df[f'title_has_{level}_parts'] = df['title_filled'].apply(\n",
    "        lambda title: check_if_title_contains_keyword(title, list_of_keywords)\n",
    "    )\n",
    "\n",
    "\n",
    "for level, substrings_to_exclude in substrings_to_exclude_per_management_level.items():\n",
    "    for sub_s in substrings_to_exclude:\n",
    "        df[f'title_has_{level}_parts'] = np.where(\n",
    "            (df[f'title_has_{level}_parts'] == 1) &\n",
    "            (df['title_filled'].apply(lambda s: s.lower()).str.contains(sub_s)),\n",
    "            0,\n",
    "            df[f'title_has_{level}_parts']\n",
    "        )"
   ]
  },
  {
   "cell_type": "code",
   "execution_count": 538,
   "id": "dddfc1ab",
   "metadata": {},
   "outputs": [
    {
     "data": {
      "text/plain": [
       "0                senior manager, enterprise readiness\n",
       "1             senior knowledge management coordinator\n",
       "2                                                none\n",
       "3                     work at home department manager\n",
       "4                              director of operations\n",
       "                             ...                     \n",
       "77978        head of international markets operations\n",
       "77979                       people operations manager\n",
       "77980    global head of claims operational excellence\n",
       "77981                      director of transformation\n",
       "77982           operations manager, customer services\n",
       "Name: title_filled, Length: 77983, dtype: object"
      ]
     },
     "execution_count": 538,
     "metadata": {},
     "output_type": "execute_result"
    }
   ],
   "source": [
    "df['title_filled'].apply(lambda s: s.lower())"
   ]
  },
  {
   "cell_type": "code",
   "execution_count": 539,
   "id": "34925b4e",
   "metadata": {},
   "outputs": [],
   "source": [
    "# tdf = pd.DataFrame(\n",
    "#     {\n",
    "#         'title_filled': df['title_filled'],\n",
    "#         'has_vice': ((df['title_filled'].apply(lambda s: s.lower()).str.contains('vice')) & (~df['title_filled'].apply(lambda s: s.lower()).str.contains('service'))).astype(int).values\n",
    "#     }\n",
    "# )\n",
    "# tdf"
   ]
  },
  {
   "cell_type": "code",
   "execution_count": 540,
   "id": "899a0890",
   "metadata": {},
   "outputs": [
    {
     "data": {
      "text/html": [
       "<div>\n",
       "<style scoped>\n",
       "    .dataframe tbody tr th:only-of-type {\n",
       "        vertical-align: middle;\n",
       "    }\n",
       "\n",
       "    .dataframe tbody tr th {\n",
       "        vertical-align: top;\n",
       "    }\n",
       "\n",
       "    .dataframe thead th {\n",
       "        text-align: right;\n",
       "    }\n",
       "</style>\n",
       "<table border=\"1\" class=\"dataframe\">\n",
       "  <thead>\n",
       "    <tr style=\"text-align: right;\">\n",
       "      <th></th>\n",
       "      <th>title_filled</th>\n",
       "      <th>title_has_c_level_parts</th>\n",
       "      <th>title_has_vp_level_parts</th>\n",
       "      <th>title_has_director_level_parts</th>\n",
       "      <th>title_has_manager_level_parts</th>\n",
       "    </tr>\n",
       "  </thead>\n",
       "  <tbody>\n",
       "    <tr>\n",
       "      <th>0</th>\n",
       "      <td>Senior Manager, Enterprise Readiness</td>\n",
       "      <td>0</td>\n",
       "      <td>0</td>\n",
       "      <td>0</td>\n",
       "      <td>1</td>\n",
       "    </tr>\n",
       "    <tr>\n",
       "      <th>1</th>\n",
       "      <td>Senior Knowledge Management Coordinator</td>\n",
       "      <td>0</td>\n",
       "      <td>0</td>\n",
       "      <td>0</td>\n",
       "      <td>0</td>\n",
       "    </tr>\n",
       "    <tr>\n",
       "      <th>2</th>\n",
       "      <td>None</td>\n",
       "      <td>0</td>\n",
       "      <td>0</td>\n",
       "      <td>0</td>\n",
       "      <td>0</td>\n",
       "    </tr>\n",
       "    <tr>\n",
       "      <th>3</th>\n",
       "      <td>Work At Home Department Manager</td>\n",
       "      <td>0</td>\n",
       "      <td>0</td>\n",
       "      <td>0</td>\n",
       "      <td>1</td>\n",
       "    </tr>\n",
       "    <tr>\n",
       "      <th>4</th>\n",
       "      <td>Director of Operations</td>\n",
       "      <td>0</td>\n",
       "      <td>0</td>\n",
       "      <td>1</td>\n",
       "      <td>0</td>\n",
       "    </tr>\n",
       "  </tbody>\n",
       "</table>\n",
       "</div>"
      ],
      "text/plain": [
       "                              title_filled  title_has_c_level_parts  \\\n",
       "0     Senior Manager, Enterprise Readiness                        0   \n",
       "1  Senior Knowledge Management Coordinator                        0   \n",
       "2                                     None                        0   \n",
       "3          Work At Home Department Manager                        0   \n",
       "4                   Director of Operations                        0   \n",
       "\n",
       "   title_has_vp_level_parts  title_has_director_level_parts  \\\n",
       "0                         0                               0   \n",
       "1                         0                               0   \n",
       "2                         0                               0   \n",
       "3                         0                               0   \n",
       "4                         0                               1   \n",
       "\n",
       "   title_has_manager_level_parts  \n",
       "0                              1  \n",
       "1                              0  \n",
       "2                              0  \n",
       "3                              1  \n",
       "4                              0  "
      ]
     },
     "execution_count": 540,
     "metadata": {},
     "output_type": "execute_result"
    }
   ],
   "source": [
    "title_parts_columns = [f'title_has_{level}_parts' for level in relevant_title_parts_per_management_level.keys()]\n",
    "df[['title_filled'] + title_parts_columns].head()"
   ]
  },
  {
   "cell_type": "markdown",
   "id": "6f7654b2",
   "metadata": {},
   "source": [
    "### Analyze new features"
   ]
  },
  {
   "cell_type": "code",
   "execution_count": 541,
   "id": "a0e2fb9d",
   "metadata": {},
   "outputs": [],
   "source": [
    "df['title_parts_amount'] = df[title_parts_columns].sum(axis=1)"
   ]
  },
  {
   "cell_type": "code",
   "execution_count": 542,
   "id": "8b3953f3",
   "metadata": {},
   "outputs": [
    {
     "data": {
      "text/plain": [
       "1    65032\n",
       "0     8319\n",
       "2     4622\n",
       "3       10\n",
       "Name: title_parts_amount, dtype: int64"
      ]
     },
     "execution_count": 542,
     "metadata": {},
     "output_type": "execute_result"
    }
   ],
   "source": [
    "df['title_parts_amount'].value_counts()"
   ]
  },
  {
   "cell_type": "code",
   "execution_count": 543,
   "id": "f2a55c76",
   "metadata": {},
   "outputs": [
    {
     "data": {
      "image/png": "[encoded data removed]",
      "text/plain": [
       "<Figure size 1080x360 with 1 Axes>"
      ]
     },
     "metadata": {
      "needs_background": "light"
     },
     "output_type": "display_data"
    }
   ],
   "source": [
    "fig, ax = plt.subplots(figsize=(15, 5))\n",
    "sns.histplot(df['title_parts_amount'], discrete=True, ax=ax)\n",
    "plt.show()"
   ]
  },
  {
   "cell_type": "code",
   "execution_count": 544,
   "id": "8dff8445",
   "metadata": {},
   "outputs": [],
   "source": [
    "# df[\n",
    "#     (df['management_level'] != 'C-Level') &\n",
    "#     (df['title_filled'].str.contains('head'))\n",
    "# ]"
   ]
  },
  {
   "cell_type": "code",
   "execution_count": null,
   "id": "c69da27b",
   "metadata": {},
   "outputs": [],
   "source": []
  },
  {
   "cell_type": "markdown",
   "id": "53971a4d",
   "metadata": {},
   "source": [
    "#### 0 title parts"
   ]
  },
  {
   "cell_type": "code",
   "execution_count": 545,
   "id": "b637bbfd",
   "metadata": {},
   "outputs": [
    {
     "data": {
      "text/plain": [
       "Other             4125\n",
       "VP-Level          3522\n",
       "Manager-Level      338\n",
       "C-Level            264\n",
       "Director-Level      70\n",
       "Name: management_level, dtype: int64"
      ]
     },
     "execution_count": 545,
     "metadata": {},
     "output_type": "execute_result"
    }
   ],
   "source": [
    "no_title_parts_df = df[df['title_parts_amount'] == 0]\n",
    "no_title_parts_df['management_level'].value_counts()"
   ]
  },
  {
   "cell_type": "code",
   "execution_count": 546,
   "id": "ac75fba2",
   "metadata": {},
   "outputs": [],
   "source": [
    "# list(no_title_parts_df[\n",
    "#     no_title_parts_df['management_level'] == 'C-Level'\n",
    "# ]['title_filled'].unique())"
   ]
  },
  {
   "cell_type": "markdown",
   "id": "c74f8e13",
   "metadata": {},
   "source": [
    "#### \"Other\" management level analysis"
   ]
  },
  {
   "cell_type": "code",
   "execution_count": 547,
   "id": "88a66b21",
   "metadata": {},
   "outputs": [
    {
     "data": {
      "text/plain": [
       "title_has_c_level_parts           0.021418\n",
       "title_has_vp_level_parts          0.054468\n",
       "title_has_director_level_parts    0.094904\n",
       "title_has_manager_level_parts     0.074040\n",
       "dtype: float64"
      ]
     },
     "execution_count": 547,
     "metadata": {},
     "output_type": "execute_result"
    }
   ],
   "source": [
    "other_management_level_df = df[df['management_level'] == 'Other']\n",
    "other_management_level_df[title_parts_columns].mean()"
   ]
  },
  {
   "cell_type": "code",
   "execution_count": 548,
   "id": "c35ff20f",
   "metadata": {},
   "outputs": [
    {
     "data": {
      "text/plain": [
       "['Chief Operating Officer New Economy',\n",
       " 'Chief Operating Officer Nearshore',\n",
       " 'CSO CRM Operations',\n",
       " 'Contractor',\n",
       " 'Founder and CEO']"
      ]
     },
     "execution_count": 548,
     "metadata": {},
     "output_type": "execute_result"
    }
   ],
   "source": [
    "list(other_management_level_df[other_management_level_df.title_has_c_level_parts == 1].head().title_filled)"
   ]
  },
  {
   "cell_type": "code",
   "execution_count": 549,
   "id": "c0c9599a",
   "metadata": {},
   "outputs": [
    {
     "data": {
      "text/plain": [
       "['AVP',\n",
       " 'VP - Sales & Marketing',\n",
       " 'VP of Training and Talent Development',\n",
       " 'VP Enterprise Partnerships',\n",
       " 'Global Vice President, Comcast Operations']"
      ]
     },
     "execution_count": 549,
     "metadata": {},
     "output_type": "execute_result"
    }
   ],
   "source": [
    "list(other_management_level_df[other_management_level_df.title_has_vp_level_parts == 1].head().title_filled)"
   ]
  },
  {
   "cell_type": "code",
   "execution_count": 550,
   "id": "481905b2",
   "metadata": {},
   "outputs": [
    {
     "data": {
      "text/plain": [
       "['Director of Customer Experience',\n",
       " 'Operations Senior Director, Human Resources',\n",
       " 'Director Learning & Development EMEA',\n",
       " 'Snr Director of Technology',\n",
       " 'Director Information Technology Systems at Amdocs']"
      ]
     },
     "execution_count": 550,
     "metadata": {},
     "output_type": "execute_result"
    }
   ],
   "source": [
    "list(other_management_level_df[other_management_level_df.title_has_director_level_parts == 1].head().title_filled)"
   ]
  },
  {
   "cell_type": "code",
   "execution_count": 551,
   "id": "dabbfe23",
   "metadata": {},
   "outputs": [
    {
     "data": {
      "text/plain": [
       "['Senior Manager, Enterprise Readiness',\n",
       " 'Work At Home Department Manager',\n",
       " 'Manager, Cloud Campus Agile Team',\n",
       " 'Team Leader, Portuguese Customer Solutions',\n",
       " 'Team Leader, People & Culture Operations']"
      ]
     },
     "execution_count": 551,
     "metadata": {},
     "output_type": "execute_result"
    }
   ],
   "source": [
    "list(other_management_level_df[other_management_level_df.title_has_manager_level_parts == 1].head().title_filled)"
   ]
  },
  {
   "cell_type": "markdown",
   "id": "78d2e6db",
   "metadata": {},
   "source": [
    "# Performance"
   ]
  },
  {
   "cell_type": "markdown",
   "id": "45cf82e2",
   "metadata": {},
   "source": [
    "## Assign predictions as the highest level found"
   ]
  },
  {
   "cell_type": "code",
   "execution_count": 565,
   "id": "db9b6a32",
   "metadata": {},
   "outputs": [],
   "source": [
    "management_level_mapping = {\n",
    "    'Other': 0,\n",
    "    'Manager-Level': 1,\n",
    "    'Director-Level': 2,\n",
    "    'VP-Level': 3,\n",
    "    'C-Level': 4,\n",
    "}\n",
    "\n",
    "management_level_reverse_mapping = {\n",
    "    0: 'Other',\n",
    "    1: 'Manager-Level',\n",
    "    2: 'Director-Level',\n",
    "    3: 'VP-Level',\n",
    "    4: 'C-Level'\n",
    "}"
   ]
  },
  {
   "cell_type": "code",
   "execution_count": 566,
   "id": "3828f685",
   "metadata": {},
   "outputs": [],
   "source": [
    "df['management_level_int'] = df['management_level'].apply(\n",
    "    lambda management_level: management_level_mapping[management_level]\n",
    ")"
   ]
  },
  {
   "cell_type": "code",
   "execution_count": 567,
   "id": "926500d2",
   "metadata": {},
   "outputs": [],
   "source": [
    "# 'Other'\n",
    "df['pred_int'] = 0 \n",
    "\n",
    "# 'Manager-Level'\n",
    "df['pred_int'] = np.where(\n",
    "    df['title_has_manager_level_parts'] == 1,\n",
    "    1,\n",
    "    df['pred_int']\n",
    ")\n",
    "\n",
    "# 'Director-Level'\n",
    "df['pred_int'] = np.where(\n",
    "    df['title_has_director_level_parts'] == 1,\n",
    "    2,\n",
    "    df['pred_int']\n",
    ")\n",
    "\n",
    "# 'VP-Level'\n",
    "df['pred_int'] = np.where(\n",
    "    df['title_has_vp_level_parts'] == 1,\n",
    "    3,\n",
    "    df['pred_int']\n",
    ")\n",
    "\n",
    "# C-Level\n",
    "df['pred_int'] = np.where(\n",
    "    df['title_has_c_level_parts'] == 1,\n",
    "    4,\n",
    "    df['pred_int']\n",
    ")"
   ]
  },
  {
   "cell_type": "markdown",
   "id": "e923cb31",
   "metadata": {},
   "source": [
    "## Check performance"
   ]
  },
  {
   "cell_type": "code",
   "execution_count": 568,
   "id": "e60e0086",
   "metadata": {},
   "outputs": [
    {
     "data": {
      "image/png": "[encoded data removed]",
      "text/plain": [
       "<Figure size 432x288 with 2 Axes>"
      ]
     },
     "metadata": {
      "needs_background": "light"
     },
     "output_type": "display_data"
    }
   ],
   "source": [
    "cm = confusion_matrix(df['management_level_int'], df['pred_int'])\n",
    "cm_norm = []\n",
    "for i in range(cm.shape[0]):\n",
    "    curr_row = cm[i]\n",
    "    cm_norm.append(curr_row / curr_row.sum())\n",
    "\n",
    "cm_norm = np.array(cm_norm)\n",
    "\n",
    "_ = sns.heatmap(cm_norm, annot=True)"
   ]
  },
  {
   "cell_type": "code",
   "execution_count": 569,
   "id": "bbb535fc",
   "metadata": {},
   "outputs": [
    {
     "data": {
      "text/plain": [
       "0.9001961966069528"
      ]
     },
     "execution_count": 569,
     "metadata": {},
     "output_type": "execute_result"
    }
   ],
   "source": [
    "# Accuracy\n",
    "(df['management_level_int'] == df['pred_int']).mean()"
   ]
  },
  {
   "cell_type": "markdown",
   "id": "f60525a5",
   "metadata": {},
   "source": [
    "## Error analysis"
   ]
  },
  {
   "cell_type": "code",
   "execution_count": 570,
   "id": "367e584e",
   "metadata": {},
   "outputs": [],
   "source": [
    "df['pred'] = df['pred_int'].apply(\n",
    "    lambda management_level_int: management_level_reverse_mapping[management_level_int]\n",
    ")"
   ]
  },
  {
   "cell_type": "code",
   "execution_count": 571,
   "id": "2a4c6fbc",
   "metadata": {},
   "outputs": [
    {
     "data": {
      "text/html": [
       "<div>\n",
       "<style scoped>\n",
       "    .dataframe tbody tr th:only-of-type {\n",
       "        vertical-align: middle;\n",
       "    }\n",
       "\n",
       "    .dataframe tbody tr th {\n",
       "        vertical-align: top;\n",
       "    }\n",
       "\n",
       "    .dataframe thead th {\n",
       "        text-align: right;\n",
       "    }\n",
       "</style>\n",
       "<table border=\"1\" class=\"dataframe\">\n",
       "  <thead>\n",
       "    <tr style=\"text-align: right;\">\n",
       "      <th></th>\n",
       "      <th>title_filled</th>\n",
       "      <th>management_level</th>\n",
       "      <th>pred</th>\n",
       "    </tr>\n",
       "  </thead>\n",
       "  <tbody>\n",
       "    <tr>\n",
       "      <th>0</th>\n",
       "      <td>Senior Manager, Enterprise Readiness</td>\n",
       "      <td>Other</td>\n",
       "      <td>Manager-Level</td>\n",
       "    </tr>\n",
       "    <tr>\n",
       "      <th>28</th>\n",
       "      <td>Director of Customer Experience</td>\n",
       "      <td>Other</td>\n",
       "      <td>Director-Level</td>\n",
       "    </tr>\n",
       "    <tr>\n",
       "      <th>60</th>\n",
       "      <td>Chief Operating Officer New Economy</td>\n",
       "      <td>Other</td>\n",
       "      <td>C-Level</td>\n",
       "    </tr>\n",
       "    <tr>\n",
       "      <th>443</th>\n",
       "      <td>AVP</td>\n",
       "      <td>Other</td>\n",
       "      <td>VP-Level</td>\n",
       "    </tr>\n",
       "  </tbody>\n",
       "</table>\n",
       "</div>"
      ],
      "text/plain": [
       "                             title_filled management_level            pred\n",
       "0    Senior Manager, Enterprise Readiness            Other   Manager-Level\n",
       "28        Director of Customer Experience            Other  Director-Level\n",
       "60    Chief Operating Officer New Economy            Other         C-Level\n",
       "443                                   AVP            Other        VP-Level"
      ]
     },
     "execution_count": 571,
     "metadata": {},
     "output_type": "execute_result"
    }
   ],
   "source": [
    "df[\n",
    "    (df['management_level_int'] == 0) &\n",
    "    (df['management_level_int'] != df['pred_int'])\n",
    "].drop_duplicates(subset='pred_int').head()[['title_filled', 'management_level', 'pred']]"
   ]
  },
  {
   "cell_type": "code",
   "execution_count": 572,
   "id": "37e9250c",
   "metadata": {},
   "outputs": [
    {
     "data": {
      "text/html": [
       "<div>\n",
       "<style scoped>\n",
       "    .dataframe tbody tr th:only-of-type {\n",
       "        vertical-align: middle;\n",
       "    }\n",
       "\n",
       "    .dataframe tbody tr th {\n",
       "        vertical-align: top;\n",
       "    }\n",
       "\n",
       "    .dataframe thead th {\n",
       "        text-align: right;\n",
       "    }\n",
       "</style>\n",
       "<table border=\"1\" class=\"dataframe\">\n",
       "  <thead>\n",
       "    <tr style=\"text-align: right;\">\n",
       "      <th></th>\n",
       "      <th>title_filled</th>\n",
       "      <th>management_level</th>\n",
       "      <th>pred</th>\n",
       "    </tr>\n",
       "  </thead>\n",
       "  <tbody>\n",
       "    <tr>\n",
       "      <th>4</th>\n",
       "      <td>Director of Operations</td>\n",
       "      <td>Manager-Level</td>\n",
       "      <td>Director-Level</td>\n",
       "    </tr>\n",
       "    <tr>\n",
       "      <th>87</th>\n",
       "      <td>Manager, CSO &amp; Solutions Operations Section</td>\n",
       "      <td>Manager-Level</td>\n",
       "      <td>C-Level</td>\n",
       "    </tr>\n",
       "    <tr>\n",
       "      <th>457</th>\n",
       "      <td>Training and Onboarding Manage</td>\n",
       "      <td>Manager-Level</td>\n",
       "      <td>Other</td>\n",
       "    </tr>\n",
       "    <tr>\n",
       "      <th>1196</th>\n",
       "      <td>VP Operations EMEA</td>\n",
       "      <td>Manager-Level</td>\n",
       "      <td>VP-Level</td>\n",
       "    </tr>\n",
       "  </tbody>\n",
       "</table>\n",
       "</div>"
      ],
      "text/plain": [
       "                                     title_filled management_level  \\\n",
       "4                          Director of Operations    Manager-Level   \n",
       "87    Manager, CSO & Solutions Operations Section    Manager-Level   \n",
       "457                Training and Onboarding Manage    Manager-Level   \n",
       "1196                           VP Operations EMEA    Manager-Level   \n",
       "\n",
       "                pred  \n",
       "4     Director-Level  \n",
       "87           C-Level  \n",
       "457            Other  \n",
       "1196        VP-Level  "
      ]
     },
     "execution_count": 572,
     "metadata": {},
     "output_type": "execute_result"
    }
   ],
   "source": [
    "df[\n",
    "    (df['management_level_int'] == 1) &\n",
    "    (df['management_level_int'] != df['pred_int'])\n",
    "].drop_duplicates(subset='pred_int').head()[['title_filled', 'management_level', 'pred']]"
   ]
  },
  {
   "cell_type": "code",
   "execution_count": 573,
   "id": "99be40b2",
   "metadata": {},
   "outputs": [
    {
     "data": {
      "text/html": [
       "<div>\n",
       "<style scoped>\n",
       "    .dataframe tbody tr th:only-of-type {\n",
       "        vertical-align: middle;\n",
       "    }\n",
       "\n",
       "    .dataframe tbody tr th {\n",
       "        vertical-align: top;\n",
       "    }\n",
       "\n",
       "    .dataframe thead th {\n",
       "        text-align: right;\n",
       "    }\n",
       "</style>\n",
       "<table border=\"1\" class=\"dataframe\">\n",
       "  <thead>\n",
       "    <tr style=\"text-align: right;\">\n",
       "      <th></th>\n",
       "      <th>title_filled</th>\n",
       "      <th>management_level</th>\n",
       "      <th>pred</th>\n",
       "    </tr>\n",
       "  </thead>\n",
       "  <tbody>\n",
       "    <tr>\n",
       "      <th>629</th>\n",
       "      <td>VP - Training, Quality &amp; Talent Development</td>\n",
       "      <td>Director-Level</td>\n",
       "      <td>VP-Level</td>\n",
       "    </tr>\n",
       "    <tr>\n",
       "      <th>1224</th>\n",
       "      <td>Global Deputy Chief Client Officer</td>\n",
       "      <td>Director-Level</td>\n",
       "      <td>C-Level</td>\n",
       "    </tr>\n",
       "    <tr>\n",
       "      <th>1817</th>\n",
       "      <td>Readiness People &amp; Culture Lead, Modern Life, ...</td>\n",
       "      <td>Director-Level</td>\n",
       "      <td>Other</td>\n",
       "    </tr>\n",
       "    <tr>\n",
       "      <th>6669</th>\n",
       "      <td>National Program Manager, Tech</td>\n",
       "      <td>Director-Level</td>\n",
       "      <td>Manager-Level</td>\n",
       "    </tr>\n",
       "  </tbody>\n",
       "</table>\n",
       "</div>"
      ],
      "text/plain": [
       "                                           title_filled management_level  \\\n",
       "629         VP - Training, Quality & Talent Development   Director-Level   \n",
       "1224                 Global Deputy Chief Client Officer   Director-Level   \n",
       "1817  Readiness People & Culture Lead, Modern Life, ...   Director-Level   \n",
       "6669                     National Program Manager, Tech   Director-Level   \n",
       "\n",
       "               pred  \n",
       "629        VP-Level  \n",
       "1224        C-Level  \n",
       "1817          Other  \n",
       "6669  Manager-Level  "
      ]
     },
     "execution_count": 573,
     "metadata": {},
     "output_type": "execute_result"
    }
   ],
   "source": [
    "df[\n",
    "    (df['management_level_int'] == 2) &\n",
    "    (df['management_level_int'] != df['pred_int'])\n",
    "].drop_duplicates(subset='pred_int').head()[['title_filled', 'management_level', 'pred']]"
   ]
  },
  {
   "cell_type": "code",
   "execution_count": 574,
   "id": "d2d14de9",
   "metadata": {},
   "outputs": [
    {
     "data": {
      "text/html": [
       "<div>\n",
       "<style scoped>\n",
       "    .dataframe tbody tr th:only-of-type {\n",
       "        vertical-align: middle;\n",
       "    }\n",
       "\n",
       "    .dataframe tbody tr th {\n",
       "        vertical-align: top;\n",
       "    }\n",
       "\n",
       "    .dataframe thead th {\n",
       "        text-align: right;\n",
       "    }\n",
       "</style>\n",
       "<table border=\"1\" class=\"dataframe\">\n",
       "  <thead>\n",
       "    <tr style=\"text-align: right;\">\n",
       "      <th></th>\n",
       "      <th>title_filled</th>\n",
       "      <th>management_level</th>\n",
       "      <th>pred</th>\n",
       "    </tr>\n",
       "  </thead>\n",
       "  <tbody>\n",
       "    <tr>\n",
       "      <th>5</th>\n",
       "      <td>Executive VP &amp; Chief Financial Officer</td>\n",
       "      <td>VP-Level</td>\n",
       "      <td>C-Level</td>\n",
       "    </tr>\n",
       "    <tr>\n",
       "      <th>25</th>\n",
       "      <td>Global Head, Customer Experience &amp; Enterprise ...</td>\n",
       "      <td>VP-Level</td>\n",
       "      <td>Other</td>\n",
       "    </tr>\n",
       "    <tr>\n",
       "      <th>116</th>\n",
       "      <td>Senior Head of Operations, Operations Manager</td>\n",
       "      <td>VP-Level</td>\n",
       "      <td>Manager-Level</td>\n",
       "    </tr>\n",
       "    <tr>\n",
       "      <th>141</th>\n",
       "      <td>Managing Director / Presidente Philip Morris F...</td>\n",
       "      <td>VP-Level</td>\n",
       "      <td>Director-Level</td>\n",
       "    </tr>\n",
       "  </tbody>\n",
       "</table>\n",
       "</div>"
      ],
      "text/plain": [
       "                                          title_filled management_level  \\\n",
       "5               Executive VP & Chief Financial Officer         VP-Level   \n",
       "25   Global Head, Customer Experience & Enterprise ...         VP-Level   \n",
       "116      Senior Head of Operations, Operations Manager         VP-Level   \n",
       "141  Managing Director / Presidente Philip Morris F...         VP-Level   \n",
       "\n",
       "               pred  \n",
       "5           C-Level  \n",
       "25            Other  \n",
       "116   Manager-Level  \n",
       "141  Director-Level  "
      ]
     },
     "execution_count": 574,
     "metadata": {},
     "output_type": "execute_result"
    }
   ],
   "source": [
    "df[\n",
    "    (df['management_level_int'] == 3) &\n",
    "    (df['management_level_int'] != df['pred_int'])\n",
    "].drop_duplicates(subset='pred_int').head()[['title_filled', 'management_level', 'pred']]"
   ]
  },
  {
   "cell_type": "code",
   "execution_count": 575,
   "id": "181c1465",
   "metadata": {},
   "outputs": [
    {
     "data": {
      "text/html": [
       "<div>\n",
       "<style scoped>\n",
       "    .dataframe tbody tr th:only-of-type {\n",
       "        vertical-align: middle;\n",
       "    }\n",
       "\n",
       "    .dataframe tbody tr th {\n",
       "        vertical-align: top;\n",
       "    }\n",
       "\n",
       "    .dataframe thead th {\n",
       "        text-align: right;\n",
       "    }\n",
       "</style>\n",
       "<table border=\"1\" class=\"dataframe\">\n",
       "  <thead>\n",
       "    <tr style=\"text-align: right;\">\n",
       "      <th></th>\n",
       "      <th>title_filled</th>\n",
       "      <th>management_level</th>\n",
       "      <th>pred</th>\n",
       "    </tr>\n",
       "  </thead>\n",
       "  <tbody>\n",
       "    <tr>\n",
       "      <th>505</th>\n",
       "      <td>Director</td>\n",
       "      <td>C-Level</td>\n",
       "      <td>Director-Level</td>\n",
       "    </tr>\n",
       "    <tr>\n",
       "      <th>619</th>\n",
       "      <td>Coordinador de Comunicaciones</td>\n",
       "      <td>C-Level</td>\n",
       "      <td>Other</td>\n",
       "    </tr>\n",
       "    <tr>\n",
       "      <th>779</th>\n",
       "      <td>Vice President, Strategic Initiatives (Office ...</td>\n",
       "      <td>C-Level</td>\n",
       "      <td>VP-Level</td>\n",
       "    </tr>\n",
       "    <tr>\n",
       "      <th>1742</th>\n",
       "      <td>Deputy Head of Customer Service, Site Manager,...</td>\n",
       "      <td>C-Level</td>\n",
       "      <td>Manager-Level</td>\n",
       "    </tr>\n",
       "  </tbody>\n",
       "</table>\n",
       "</div>"
      ],
      "text/plain": [
       "                                           title_filled management_level  \\\n",
       "505                                            Director          C-Level   \n",
       "619                       Coordinador de Comunicaciones          C-Level   \n",
       "779   Vice President, Strategic Initiatives (Office ...          C-Level   \n",
       "1742  Deputy Head of Customer Service, Site Manager,...          C-Level   \n",
       "\n",
       "                pred  \n",
       "505   Director-Level  \n",
       "619            Other  \n",
       "779         VP-Level  \n",
       "1742   Manager-Level  "
      ]
     },
     "execution_count": 575,
     "metadata": {},
     "output_type": "execute_result"
    }
   ],
   "source": [
    "df[\n",
    "    (df['management_level_int'] == 4) &\n",
    "    (df['management_level_int'] != df['pred_int'])\n",
    "].drop_duplicates(subset='pred_int').head()[['title_filled', 'management_level', 'pred']]"
   ]
  },
  {
   "cell_type": "code",
   "execution_count": 576,
   "id": "04a6966a",
   "metadata": {},
   "outputs": [
    {
     "data": {
      "text/plain": [
       "'Deputy Head of Customer Service, Site Manager, CSM of Digital, Priority Services, Complaints & Esc'"
      ]
     },
     "execution_count": 576,
     "metadata": {},
     "output_type": "execute_result"
    }
   ],
   "source": [
    "df[\n",
    "    (df['management_level_int'] == 4) &\n",
    "    (df['management_level_int'] != df['pred_int'])\n",
    "].drop_duplicates(subset='pred_int').title_filled.iloc[-1]"
   ]
  },
  {
   "cell_type": "code",
   "execution_count": null,
   "id": "99d69dca",
   "metadata": {},
   "outputs": [],
   "source": []
  },
  {
   "cell_type": "code",
   "execution_count": null,
   "id": "9122f95d",
   "metadata": {},
   "outputs": [],
   "source": []
  }
 ],
 "metadata": {
  "kernelspec": {
   "display_name": "eta_prediction_env",
   "language": "python",
   "name": "eta_prediction_env"
  },
  "language_info": {
   "codemirror_mode": {
    "name": "ipython",
    "version": 3
   },
   "file_extension": ".py",
   "mimetype": "text/x-python",
   "name": "python",
   "nbconvert_exporter": "python",
   "pygments_lexer": "ipython3",
   "version": "3.7.13"
  }
 },
 "nbformat": 4,
 "nbformat_minor": 5
}
