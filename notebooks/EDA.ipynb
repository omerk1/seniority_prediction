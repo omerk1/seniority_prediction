{
 "cells": [
  {
   "cell_type": "code",
   "execution_count": 1,
   "id": "b5551a8f",
   "metadata": {},
   "outputs": [],
   "source": [
    "import pandas as pd\n",
    "import numpy as np\n",
    "\n",
    "import plotly.express as px\n",
    "import seaborn as sns\n",
    "import matplotlib.pyplot as plt"
   ]
  },
  {
   "cell_type": "markdown",
   "id": "f8d53739",
   "metadata": {},
   "source": [
    "# Data understanding"
   ]
  },
  {
   "cell_type": "markdown",
   "id": "bd182c8d",
   "metadata": {},
   "source": [
    "## Data loading"
   ]
  },
  {
   "cell_type": "code",
   "execution_count": 2,
   "id": "127a58af",
   "metadata": {},
   "outputs": [
    {
     "data": {
      "text/plain": [
       "(77983, 4)"
      ]
     },
     "execution_count": 2,
     "metadata": {},
     "output_type": "execute_result"
    }
   ],
   "source": [
    "df = pd.read_csv('dataset_tagged.csv')\n",
    "df.shape"
   ]
  },
  {
   "cell_type": "code",
   "execution_count": 3,
   "id": "01314504",
   "metadata": {},
   "outputs": [
    {
     "data": {
      "text/html": [
       "<div>\n",
       "<style scoped>\n",
       "    .dataframe tbody tr th:only-of-type {\n",
       "        vertical-align: middle;\n",
       "    }\n",
       "\n",
       "    .dataframe tbody tr th {\n",
       "        vertical-align: top;\n",
       "    }\n",
       "\n",
       "    .dataframe thead th {\n",
       "        text-align: right;\n",
       "    }\n",
       "</style>\n",
       "<table border=\"1\" class=\"dataframe\">\n",
       "  <thead>\n",
       "    <tr style=\"text-align: right;\">\n",
       "      <th></th>\n",
       "      <th>First Name</th>\n",
       "      <th>Last Name</th>\n",
       "      <th>Management Level</th>\n",
       "      <th>Title</th>\n",
       "    </tr>\n",
       "  </thead>\n",
       "  <tbody>\n",
       "    <tr>\n",
       "      <th>0</th>\n",
       "      <td>Ann</td>\n",
       "      <td>Beard</td>\n",
       "      <td>NaN</td>\n",
       "      <td>Senior Manager, Enterprise Readiness</td>\n",
       "    </tr>\n",
       "    <tr>\n",
       "      <th>1</th>\n",
       "      <td>Christy</td>\n",
       "      <td>Stropes</td>\n",
       "      <td>NaN</td>\n",
       "      <td>Senior Knowledge Management Coordinator</td>\n",
       "    </tr>\n",
       "    <tr>\n",
       "      <th>2</th>\n",
       "      <td>Eric</td>\n",
       "      <td>Kerr</td>\n",
       "      <td>NaN</td>\n",
       "      <td>NaN</td>\n",
       "    </tr>\n",
       "    <tr>\n",
       "      <th>3</th>\n",
       "      <td>Andrew</td>\n",
       "      <td>Beam</td>\n",
       "      <td>NaN</td>\n",
       "      <td>Work At Home Department Manager</td>\n",
       "    </tr>\n",
       "    <tr>\n",
       "      <th>4</th>\n",
       "      <td>Suzana</td>\n",
       "      <td>Djordjevic</td>\n",
       "      <td>Manager-Level</td>\n",
       "      <td>Director of Operations</td>\n",
       "    </tr>\n",
       "  </tbody>\n",
       "</table>\n",
       "</div>"
      ],
      "text/plain": [
       "  First Name   Last Name Management Level  \\\n",
       "0        Ann       Beard              NaN   \n",
       "1    Christy     Stropes              NaN   \n",
       "2       Eric        Kerr              NaN   \n",
       "3     Andrew        Beam              NaN   \n",
       "4     Suzana  Djordjevic    Manager-Level   \n",
       "\n",
       "                                     Title  \n",
       "0     Senior Manager, Enterprise Readiness  \n",
       "1  Senior Knowledge Management Coordinator  \n",
       "2                                      NaN  \n",
       "3          Work At Home Department Manager  \n",
       "4                   Director of Operations  "
      ]
     },
     "execution_count": 3,
     "metadata": {},
     "output_type": "execute_result"
    }
   ],
   "source": [
    "df.head()"
   ]
  },
  {
   "cell_type": "markdown",
   "id": "f6c4d6cd",
   "metadata": {},
   "source": [
    "## Data exploration"
   ]
  },
  {
   "cell_type": "markdown",
   "id": "ec540085",
   "metadata": {},
   "source": [
    "### Missing values"
   ]
  },
  {
   "cell_type": "code",
   "execution_count": 4,
   "id": "f6028f49",
   "metadata": {},
   "outputs": [
    {
     "data": {
      "text/plain": [
       "First Name            37\n",
       "Last Name              0\n",
       "Management Level    1807\n",
       "Title                403\n",
       "dtype: int64"
      ]
     },
     "execution_count": 4,
     "metadata": {},
     "output_type": "execute_result"
    }
   ],
   "source": [
    "df.isna().sum()"
   ]
  },
  {
   "cell_type": "markdown",
   "id": "b9e6dfb0",
   "metadata": {},
   "source": [
    "### Features"
   ]
  },
  {
   "cell_type": "code",
   "execution_count": 12,
   "id": "d2658ff5",
   "metadata": {},
   "outputs": [
    {
     "data": {
      "text/plain": [
       "(46483,)"
      ]
     },
     "execution_count": 12,
     "metadata": {},
     "output_type": "execute_result"
    }
   ],
   "source": [
    "df['Title'].unique().shape"
   ]
  },
  {
   "cell_type": "code",
   "execution_count": 13,
   "id": "afea1540",
   "metadata": {},
   "outputs": [
    {
     "data": {
      "text/plain": [
       "Director-Level    31449\n",
       "VP-Level          29794\n",
       "Manager-Level      7098\n",
       "C-Level            4226\n",
       "Other              3609\n",
       "Name: Management Level, dtype: int64"
      ]
     },
     "execution_count": 13,
     "metadata": {},
     "output_type": "execute_result"
    }
   ],
   "source": [
    "df['Management Level'].value_counts()"
   ]
  },
  {
   "cell_type": "code",
   "execution_count": 14,
   "id": "0f6d7654",
   "metadata": {},
   "outputs": [],
   "source": [
    "# Unify categories\n",
    "\n",
    "df['Management Level'] = np.where(\n",
    "    df['Management Level'] == 'Non-Manager',\n",
    "    'Other',\n",
    "    df['Management Level']\n",
    ")\n",
    "\n",
    "df['Management Level'] = np.where(\n",
    "    df['Management Level'] == 'Manager',\n",
    "    'Manager-Level',\n",
    "    df['Management Level']\n",
    ")\n",
    "\n",
    "df['Management Level'] = np.where(\n",
    "    df['Management Level'] == 'Director',\n",
    "    'Director-Level',\n",
    "    df['Management Level']\n",
    ")\n",
    "\n",
    "\n",
    "# Fill NANs with default value\n",
    "\n",
    "df['Management Level filled'] = np.where(\n",
    "    df['Management Level'].isna(),\n",
    "    'None',\n",
    "    df['Management Level']\n",
    ")"
   ]
  },
  {
   "cell_type": "code",
   "execution_count": 16,
   "id": "9f5d4646",
   "metadata": {},
   "outputs": [
    {
     "data": {
      "image/png": "[encoded data removed]",
      "text/plain": [
       "<Figure size 1080x360 with 1 Axes>"
      ]
     },
     "metadata": {
      "needs_background": "light"
     },
     "output_type": "display_data"
    }
   ],
   "source": [
    "fig, ax = plt.subplots(figsize=(15, 5))\n",
    "sns.histplot(df['Management Level filled'], discrete=True, ax=ax)\n",
    "plt.show()"
   ]
  },
  {
   "cell_type": "markdown",
   "id": "8d2f79dc",
   "metadata": {},
   "source": [
    "## Correlations analysis"
   ]
  },
  {
   "cell_type": "code",
   "execution_count": null,
   "id": "ac53ce4e",
   "metadata": {},
   "outputs": [],
   "source": []
  },
  {
   "cell_type": "code",
   "execution_count": null,
   "id": "899a0890",
   "metadata": {},
   "outputs": [],
   "source": []
  },
  {
   "cell_type": "code",
   "execution_count": null,
   "id": "cbc22e98",
   "metadata": {},
   "outputs": [],
   "source": []
  },
  {
   "cell_type": "code",
   "execution_count": null,
   "id": "926500d2",
   "metadata": {},
   "outputs": [],
   "source": []
  },
  {
   "cell_type": "code",
   "execution_count": null,
   "id": "458ad246",
   "metadata": {},
   "outputs": [],
   "source": []
  }
 ],
 "metadata": {
  "kernelspec": {
   "display_name": "eta_prediction_env",
   "language": "python",
   "name": "eta_prediction_env"
  },
  "language_info": {
   "codemirror_mode": {
    "name": "ipython",
    "version": 3
   },
   "file_extension": ".py",
   "mimetype": "text/x-python",
   "name": "python",
   "nbconvert_exporter": "python",
   "pygments_lexer": "ipython3",
   "version": "3.7.13"
  }
 },
 "nbformat": 4,
 "nbformat_minor": 5
}
