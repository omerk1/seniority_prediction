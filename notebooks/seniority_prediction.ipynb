{
 "cells": [
  {
   "cell_type": "code",
   "execution_count": 80,
   "id": "b5551a8f",
   "metadata": {},
   "outputs": [],
   "source": [
    "import pandas as pd\n",
    "import numpy as np\n",
    "\n",
    "import plotly.express as px\n",
    "import seaborn as sns\n",
    "import matplotlib.pyplot as plt\n",
    "\n",
    "from sklearn.metrics import mean_absolute_error, mean_squared_error, confusion_matrix"
   ]
  },
  {
   "cell_type": "markdown",
   "id": "f8d53739",
   "metadata": {},
   "source": [
    "# Data understanding"
   ]
  },
  {
   "cell_type": "markdown",
   "id": "bd182c8d",
   "metadata": {},
   "source": [
    "## Data loading"
   ]
  },
  {
   "cell_type": "code",
   "execution_count": 129,
   "id": "127a58af",
   "metadata": {},
   "outputs": [
    {
     "data": {
      "text/plain": [
       "(77983, 4)"
      ]
     },
     "execution_count": 129,
     "metadata": {},
     "output_type": "execute_result"
    }
   ],
   "source": [
    "df = pd.read_csv('../data/dataset_tagged.csv')\n",
    "df.shape"
   ]
  },
  {
   "cell_type": "code",
   "execution_count": 130,
   "id": "01314504",
   "metadata": {},
   "outputs": [
    {
     "data": {
      "text/html": [
       "<div>\n",
       "<style scoped>\n",
       "    .dataframe tbody tr th:only-of-type {\n",
       "        vertical-align: middle;\n",
       "    }\n",
       "\n",
       "    .dataframe tbody tr th {\n",
       "        vertical-align: top;\n",
       "    }\n",
       "\n",
       "    .dataframe thead th {\n",
       "        text-align: right;\n",
       "    }\n",
       "</style>\n",
       "<table border=\"1\" class=\"dataframe\">\n",
       "  <thead>\n",
       "    <tr style=\"text-align: right;\">\n",
       "      <th></th>\n",
       "      <th>First Name</th>\n",
       "      <th>Last Name</th>\n",
       "      <th>Management Level</th>\n",
       "      <th>Title</th>\n",
       "    </tr>\n",
       "  </thead>\n",
       "  <tbody>\n",
       "    <tr>\n",
       "      <th>0</th>\n",
       "      <td>Ann</td>\n",
       "      <td>Beard</td>\n",
       "      <td>NaN</td>\n",
       "      <td>Senior Manager, Enterprise Readiness</td>\n",
       "    </tr>\n",
       "    <tr>\n",
       "      <th>1</th>\n",
       "      <td>Christy</td>\n",
       "      <td>Stropes</td>\n",
       "      <td>NaN</td>\n",
       "      <td>Senior Knowledge Management Coordinator</td>\n",
       "    </tr>\n",
       "    <tr>\n",
       "      <th>2</th>\n",
       "      <td>Eric</td>\n",
       "      <td>Kerr</td>\n",
       "      <td>NaN</td>\n",
       "      <td>NaN</td>\n",
       "    </tr>\n",
       "    <tr>\n",
       "      <th>3</th>\n",
       "      <td>Andrew</td>\n",
       "      <td>Beam</td>\n",
       "      <td>NaN</td>\n",
       "      <td>Work At Home Department Manager</td>\n",
       "    </tr>\n",
       "    <tr>\n",
       "      <th>4</th>\n",
       "      <td>Suzana</td>\n",
       "      <td>Djordjevic</td>\n",
       "      <td>Manager-Level</td>\n",
       "      <td>Director of Operations</td>\n",
       "    </tr>\n",
       "  </tbody>\n",
       "</table>\n",
       "</div>"
      ],
      "text/plain": [
       "  First Name   Last Name Management Level  \\\n",
       "0        Ann       Beard              NaN   \n",
       "1    Christy     Stropes              NaN   \n",
       "2       Eric        Kerr              NaN   \n",
       "3     Andrew        Beam              NaN   \n",
       "4     Suzana  Djordjevic    Manager-Level   \n",
       "\n",
       "                                     Title  \n",
       "0     Senior Manager, Enterprise Readiness  \n",
       "1  Senior Knowledge Management Coordinator  \n",
       "2                                      NaN  \n",
       "3          Work At Home Department Manager  \n",
       "4                   Director of Operations  "
      ]
     },
     "execution_count": 130,
     "metadata": {},
     "output_type": "execute_result"
    }
   ],
   "source": [
    "df.head()"
   ]
  },
  {
   "cell_type": "code",
   "execution_count": 131,
   "id": "da413eb9",
   "metadata": {},
   "outputs": [],
   "source": [
    "df = df.rename(\n",
    "    columns={\n",
    "        'Management Level': 'management_level',\n",
    "        'Title': 'title'\n",
    "    }\n",
    ")"
   ]
  },
  {
   "cell_type": "markdown",
   "id": "f6c4d6cd",
   "metadata": {},
   "source": [
    "## Data exploration"
   ]
  },
  {
   "cell_type": "markdown",
   "id": "ec540085",
   "metadata": {},
   "source": [
    "### Missing values"
   ]
  },
  {
   "cell_type": "code",
   "execution_count": 132,
   "id": "f6028f49",
   "metadata": {},
   "outputs": [
    {
     "data": {
      "text/plain": [
       "First Name            37\n",
       "Last Name              0\n",
       "management_level    1807\n",
       "title                403\n",
       "dtype: int64"
      ]
     },
     "execution_count": 132,
     "metadata": {},
     "output_type": "execute_result"
    }
   ],
   "source": [
    "df.isna().sum()"
   ]
  },
  {
   "cell_type": "markdown",
   "id": "b9e6dfb0",
   "metadata": {},
   "source": [
    "### Features"
   ]
  },
  {
   "cell_type": "code",
   "execution_count": 133,
   "id": "d2658ff5",
   "metadata": {},
   "outputs": [
    {
     "data": {
      "text/plain": [
       "(46483,)"
      ]
     },
     "execution_count": 133,
     "metadata": {},
     "output_type": "execute_result"
    }
   ],
   "source": [
    "df['title'].unique().shape"
   ]
  },
  {
   "cell_type": "code",
   "execution_count": 134,
   "id": "afea1540",
   "metadata": {},
   "outputs": [
    {
     "data": {
      "text/plain": [
       "Director-Level    31418\n",
       "VP-Level          29794\n",
       "Manager-Level      7094\n",
       "C-Level            4226\n",
       "Other              3608\n",
       "Director             31\n",
       "Manager               4\n",
       "Non-Manager           1\n",
       "Name: management_level, dtype: int64"
      ]
     },
     "execution_count": 134,
     "metadata": {},
     "output_type": "execute_result"
    }
   ],
   "source": [
    "df['management_level'].value_counts()"
   ]
  },
  {
   "cell_type": "code",
   "execution_count": 135,
   "id": "0f6d7654",
   "metadata": {},
   "outputs": [],
   "source": [
    "# Unify categories\n",
    "\n",
    "df['management_level'] = np.where(\n",
    "    df['management_level'] == 'Non-Manager',\n",
    "    'Other',\n",
    "    df['management_level']\n",
    ")\n",
    "\n",
    "df['management_level'] = np.where(\n",
    "    df['management_level'] == 'Manager',\n",
    "    'Manager-Level',\n",
    "    df['management_level']\n",
    ")\n",
    "\n",
    "df['management_level'] = np.where(\n",
    "    df['management_level'] == 'Director',\n",
    "    'Director-Level',\n",
    "    df['management_level']\n",
    ")\n",
    "\n",
    "\n",
    "# Remove NANs\n",
    "df = df[df['management_level'].notna()]\n",
    "\n",
    "# Fill missing titles\n",
    "df['title_filled'] = np.where(\n",
    "    df['title'].isna(),\n",
    "    'None',\n",
    "    df['title']\n",
    ").astype(str)"
   ]
  },
  {
   "cell_type": "code",
   "execution_count": null,
   "id": "2fee3723",
   "metadata": {},
   "outputs": [],
   "source": []
  },
  {
   "cell_type": "code",
   "execution_count": 136,
   "id": "9f5d4646",
   "metadata": {},
   "outputs": [
    {
     "data": {
      "image/png": "[encoded data removed]",
      "text/plain": [
       "<Figure size 1080x360 with 1 Axes>"
      ]
     },
     "metadata": {
      "needs_background": "light"
     },
     "output_type": "display_data"
    }
   ],
   "source": [
    "df['management_level'] = pd.Categorical(\n",
    "    df['management_level'],\n",
    "    ['Other', 'Manager-Level','Director-Level','VP-Level','C-Level']\n",
    ")\n",
    "\n",
    "fig, ax = plt.subplots(figsize=(15, 5))\n",
    "sns.histplot(\n",
    "    df['management_level'],\n",
    "    discrete=True,\n",
    "    ax=ax\n",
    ")\n",
    "ax.set_title('Management level histogram', fontsize=20)\n",
    "ax.set_xlabel('Management level', fontsize=14)\n",
    "ax.set_ylabel('Count', fontsize=14)\n",
    "plt.show()"
   ]
  },
  {
   "cell_type": "markdown",
   "id": "8d2f79dc",
   "metadata": {},
   "source": [
    "## Keywords-in-title features"
   ]
  },
  {
   "cell_type": "markdown",
   "id": "3f95547d",
   "metadata": {},
   "source": [
    "### Add regex features"
   ]
  },
  {
   "cell_type": "code",
   "execution_count": 137,
   "id": "134d9e86",
   "metadata": {},
   "outputs": [],
   "source": [
    "relevant_title_parts_per_management_level = {\n",
    "    'c_level': [\n",
    "        'chief', 'ceo', 'cto', 'cpo', 'cso', 'coo', 'cfo', 'cmo', 'cio', 'cao', 'chro',\n",
    "        'president', 'global head'\n",
    "    ],\n",
    "    'vp_level': ['vp', 'vice president', 'vice-president'],\n",
    "    'director_level': ['director', 'dir.', 'directeur'],\n",
    "    'manager_level': ['manager', 'team lead', 'team-lead'],\n",
    "}\n",
    "\n",
    "substrings_to_exclude_per_management_level = {\n",
    "    'c_level': ['coordin', 'director', 'vice'],\n",
    "    'vp_level': [],\n",
    "    'director_level': [],\n",
    "    'manager_level': [],\n",
    "}"
   ]
  },
  {
   "cell_type": "code",
   "execution_count": 138,
   "id": "d07be685",
   "metadata": {},
   "outputs": [],
   "source": [
    "def check_if_title_contains_keyword(title, list_of_keywords):\n",
    "    for keyword in list_of_keywords:\n",
    "        if keyword in title.lower():\n",
    "            return 1\n",
    "    return 0"
   ]
  },
  {
   "cell_type": "code",
   "execution_count": 139,
   "id": "ac53ce4e",
   "metadata": {},
   "outputs": [],
   "source": [
    "for level, list_of_keywords in relevant_title_parts_per_management_level.items():\n",
    "    df[f'title_has_{level}_parts'] = df['title_filled'].apply(\n",
    "        lambda title: check_if_title_contains_keyword(title, list_of_keywords)\n",
    "    )\n",
    "\n",
    "\n",
    "for level, substrings_to_exclude in substrings_to_exclude_per_management_level.items():\n",
    "    for sub_s in substrings_to_exclude:\n",
    "        df[f'title_has_{level}_parts'] = np.where(\n",
    "            (df[f'title_has_{level}_parts'] == 1) &\n",
    "            (df['title_filled'].apply(lambda s: s.lower()).str.contains(sub_s)),\n",
    "            0,\n",
    "            df[f'title_has_{level}_parts']\n",
    "        )"
   ]
  },
  {
   "cell_type": "code",
   "execution_count": 140,
   "id": "899a0890",
   "metadata": {},
   "outputs": [
    {
     "data": {
      "text/html": [
       "<div>\n",
       "<style scoped>\n",
       "    .dataframe tbody tr th:only-of-type {\n",
       "        vertical-align: middle;\n",
       "    }\n",
       "\n",
       "    .dataframe tbody tr th {\n",
       "        vertical-align: top;\n",
       "    }\n",
       "\n",
       "    .dataframe thead th {\n",
       "        text-align: right;\n",
       "    }\n",
       "</style>\n",
       "<table border=\"1\" class=\"dataframe\">\n",
       "  <thead>\n",
       "    <tr style=\"text-align: right;\">\n",
       "      <th></th>\n",
       "      <th>title_filled</th>\n",
       "      <th>title_has_c_level_parts</th>\n",
       "      <th>title_has_vp_level_parts</th>\n",
       "      <th>title_has_director_level_parts</th>\n",
       "      <th>title_has_manager_level_parts</th>\n",
       "    </tr>\n",
       "  </thead>\n",
       "  <tbody>\n",
       "    <tr>\n",
       "      <th>4</th>\n",
       "      <td>Director of Operations</td>\n",
       "      <td>0</td>\n",
       "      <td>0</td>\n",
       "      <td>1</td>\n",
       "      <td>0</td>\n",
       "    </tr>\n",
       "    <tr>\n",
       "      <th>5</th>\n",
       "      <td>Executive VP &amp; Chief Financial Officer</td>\n",
       "      <td>1</td>\n",
       "      <td>1</td>\n",
       "      <td>0</td>\n",
       "      <td>0</td>\n",
       "    </tr>\n",
       "    <tr>\n",
       "      <th>6</th>\n",
       "      <td>Vice President, Human Resources</td>\n",
       "      <td>0</td>\n",
       "      <td>1</td>\n",
       "      <td>0</td>\n",
       "      <td>0</td>\n",
       "    </tr>\n",
       "    <tr>\n",
       "      <th>7</th>\n",
       "      <td>Senior Director, Operations</td>\n",
       "      <td>0</td>\n",
       "      <td>0</td>\n",
       "      <td>1</td>\n",
       "      <td>0</td>\n",
       "    </tr>\n",
       "    <tr>\n",
       "      <th>8</th>\n",
       "      <td>Senior Director, Recovery Operations</td>\n",
       "      <td>0</td>\n",
       "      <td>0</td>\n",
       "      <td>1</td>\n",
       "      <td>0</td>\n",
       "    </tr>\n",
       "  </tbody>\n",
       "</table>\n",
       "</div>"
      ],
      "text/plain": [
       "                             title_filled  title_has_c_level_parts  \\\n",
       "4                  Director of Operations                        0   \n",
       "5  Executive VP & Chief Financial Officer                        1   \n",
       "6         Vice President, Human Resources                        0   \n",
       "7             Senior Director, Operations                        0   \n",
       "8    Senior Director, Recovery Operations                        0   \n",
       "\n",
       "   title_has_vp_level_parts  title_has_director_level_parts  \\\n",
       "4                         0                               1   \n",
       "5                         1                               0   \n",
       "6                         1                               0   \n",
       "7                         0                               1   \n",
       "8                         0                               1   \n",
       "\n",
       "   title_has_manager_level_parts  \n",
       "4                              0  \n",
       "5                              0  \n",
       "6                              0  \n",
       "7                              0  \n",
       "8                              0  "
      ]
     },
     "execution_count": 140,
     "metadata": {},
     "output_type": "execute_result"
    }
   ],
   "source": [
    "title_parts_columns = [f'title_has_{level}_parts' for level in relevant_title_parts_per_management_level.keys()]\n",
    "df[['title_filled'] + title_parts_columns].head()"
   ]
  },
  {
   "cell_type": "markdown",
   "id": "6f7654b2",
   "metadata": {},
   "source": [
    "### Analyze new features"
   ]
  },
  {
   "cell_type": "code",
   "execution_count": 141,
   "id": "a0e2fb9d",
   "metadata": {},
   "outputs": [],
   "source": [
    "df['title_parts_amount'] = df[title_parts_columns].sum(axis=1)"
   ]
  },
  {
   "cell_type": "code",
   "execution_count": 142,
   "id": "8b3953f3",
   "metadata": {},
   "outputs": [
    {
     "data": {
      "text/plain": [
       "1    64000\n",
       "0     7576\n",
       "2     4590\n",
       "3       10\n",
       "Name: title_parts_amount, dtype: int64"
      ]
     },
     "execution_count": 142,
     "metadata": {},
     "output_type": "execute_result"
    }
   ],
   "source": [
    "df['title_parts_amount'].value_counts()"
   ]
  },
  {
   "cell_type": "code",
   "execution_count": 143,
   "id": "f2a55c76",
   "metadata": {},
   "outputs": [
    {
     "data": {
      "image/png": "[encoded data removed]",
      "text/plain": [
       "<Figure size 1080x360 with 1 Axes>"
      ]
     },
     "metadata": {
      "needs_background": "light"
     },
     "output_type": "display_data"
    }
   ],
   "source": [
    "fig, ax = plt.subplots(figsize=(15, 5))\n",
    "sns.histplot(df['title_parts_amount'], discrete=True, ax=ax)\n",
    "plt.show()"
   ]
  },
  {
   "cell_type": "markdown",
   "id": "c74f8e13",
   "metadata": {},
   "source": [
    "#### \"Other\" management level analysis"
   ]
  },
  {
   "cell_type": "code",
   "execution_count": 144,
   "id": "88a66b21",
   "metadata": {},
   "outputs": [
    {
     "data": {
      "text/plain": [
       "title_has_c_level_parts           0.018842\n",
       "title_has_vp_level_parts          0.002771\n",
       "title_has_director_level_parts    0.009698\n",
       "title_has_manager_level_parts     0.032419\n",
       "dtype: float64"
      ]
     },
     "execution_count": 144,
     "metadata": {},
     "output_type": "execute_result"
    }
   ],
   "source": [
    "other_management_level_df = df[df['management_level'] == 'Other']\n",
    "other_management_level_df[title_parts_columns].mean()"
   ]
  },
  {
   "cell_type": "code",
   "execution_count": 145,
   "id": "c35ff20f",
   "metadata": {},
   "outputs": [
    {
     "data": {
      "text/plain": [
       "['CSO CRM Operations',\n",
       " 'Contractor',\n",
       " 'CTO',\n",
       " 'CHRO',\n",
       " 'Senior HR CAO & IMO Business Partner']"
      ]
     },
     "execution_count": 145,
     "metadata": {},
     "output_type": "execute_result"
    }
   ],
   "source": [
    "list(other_management_level_df[other_management_level_df.title_has_c_level_parts == 1].head().title_filled)"
   ]
  },
  {
   "cell_type": "code",
   "execution_count": 146,
   "id": "93938ad6",
   "metadata": {},
   "outputs": [
    {
     "data": {
      "text/plain": [
       "['VP of Training and Talent Development',\n",
       " 'Executive VP, Operations',\n",
       " 'Vice President, Testing & Division Manager',\n",
       " 'AVP Learning Engagement',\n",
       " 'Vice President, Technology']"
      ]
     },
     "execution_count": 146,
     "metadata": {},
     "output_type": "execute_result"
    }
   ],
   "source": [
    "list(other_management_level_df[other_management_level_df.title_has_vp_level_parts == 1].head().title_filled)"
   ]
  },
  {
   "cell_type": "code",
   "execution_count": 147,
   "id": "84c8d6a3",
   "metadata": {},
   "outputs": [
    {
     "data": {
      "text/plain": [
       "['Director Information Technology Systems at Amdocs',\n",
       " 'Site Director',\n",
       " 'Director, Site Operations',\n",
       " 'Asst. Dir. IT, Business Resilience',\n",
       " 'Director of Learning']"
      ]
     },
     "execution_count": 147,
     "metadata": {},
     "output_type": "execute_result"
    }
   ],
   "source": [
    "list(other_management_level_df[other_management_level_df.title_has_director_level_parts == 1].head().title_filled)"
   ]
  },
  {
   "cell_type": "code",
   "execution_count": 148,
   "id": "b51e834a",
   "metadata": {},
   "outputs": [
    {
     "data": {
      "text/plain": [
       "['Team Leader, Toyota Customer Service',\n",
       " 'Team Leader ï Health and Service Support',\n",
       " 'Team Leader',\n",
       " 'Learning Manager',\n",
       " 'Account Manager']"
      ]
     },
     "execution_count": 148,
     "metadata": {},
     "output_type": "execute_result"
    }
   ],
   "source": [
    "list(other_management_level_df[other_management_level_df.title_has_manager_level_parts == 1].head().title_filled)"
   ]
  },
  {
   "cell_type": "markdown",
   "id": "78d2e6db",
   "metadata": {},
   "source": [
    "# Performance"
   ]
  },
  {
   "cell_type": "markdown",
   "id": "b208cac0",
   "metadata": {},
   "source": [
    "## Assign predictions as the highest level found"
   ]
  },
  {
   "cell_type": "code",
   "execution_count": 149,
   "id": "7e54aead",
   "metadata": {},
   "outputs": [],
   "source": [
    "management_level_mapping = {\n",
    "    'Other': 0,\n",
    "    'Manager-Level': 1,\n",
    "    'Director-Level': 2,\n",
    "    'VP-Level': 3,\n",
    "    'C-Level': 4,\n",
    "}\n",
    "\n",
    "management_level_reverse_mapping = {\n",
    "    0: 'Other',\n",
    "    1: 'Manager-Level',\n",
    "    2: 'Director-Level',\n",
    "    3: 'VP-Level',\n",
    "    4: 'C-Level'\n",
    "}"
   ]
  },
  {
   "cell_type": "code",
   "execution_count": 184,
   "id": "fa860f76",
   "metadata": {},
   "outputs": [],
   "source": [
    "df['management_level_int'] = df['management_level'].apply(\n",
    "    lambda management_level: management_level_mapping[management_level]\n",
    ").astype(int)"
   ]
  },
  {
   "cell_type": "code",
   "execution_count": 185,
   "id": "926500d2",
   "metadata": {},
   "outputs": [],
   "source": [
    "# 'Other'\n",
    "df['pred_int'] = 0 \n",
    "\n",
    "# 'Manager-Level'\n",
    "df['pred_int'] = np.where(\n",
    "    df['title_has_manager_level_parts'] == 1,\n",
    "    1,\n",
    "    df['pred_int']\n",
    ")\n",
    "\n",
    "# 'Director-Level'\n",
    "df['pred_int'] = np.where(\n",
    "    df['title_has_director_level_parts'] == 1,\n",
    "    2,\n",
    "    df['pred_int']\n",
    ")\n",
    "\n",
    "# 'VP-Level'\n",
    "df['pred_int'] = np.where(\n",
    "    df['title_has_vp_level_parts'] == 1,\n",
    "    3,\n",
    "    df['pred_int']\n",
    ")\n",
    "\n",
    "# C-Level\n",
    "df['pred_int'] = np.where(\n",
    "    df['title_has_c_level_parts'] == 1,\n",
    "    4,\n",
    "    df['pred_int']\n",
    ")"
   ]
  },
  {
   "cell_type": "code",
   "execution_count": 186,
   "id": "50d055c6",
   "metadata": {},
   "outputs": [],
   "source": [
    "df['pred'] = df['pred_int'].apply(\n",
    "    lambda pred_int: management_level_reverse_mapping[pred_int]\n",
    ")"
   ]
  },
  {
   "cell_type": "markdown",
   "id": "f3e08c98",
   "metadata": {},
   "source": [
    "## Check performance"
   ]
  },
  {
   "cell_type": "markdown",
   "id": "79d7ff62",
   "metadata": {},
   "source": [
    "### Accuracy"
   ]
  },
  {
   "cell_type": "code",
   "execution_count": 187,
   "id": "5937fe59",
   "metadata": {},
   "outputs": [
    {
     "data": {
      "text/plain": [
       "0.9117963663095988"
      ]
     },
     "execution_count": 187,
     "metadata": {},
     "output_type": "execute_result"
    }
   ],
   "source": [
    "(df['management_level_int'] == df['pred_int']).mean()"
   ]
  },
  {
   "cell_type": "markdown",
   "id": "0498dfaf",
   "metadata": {},
   "source": [
    "### Confusion matrix"
   ]
  },
  {
   "cell_type": "code",
   "execution_count": 189,
   "id": "71c0d1b0",
   "metadata": {},
   "outputs": [
    {
     "data": {
      "image/png": "[encoded data removed]",
      "text/plain": [
       "<Figure size 720x504 with 2 Axes>"
      ]
     },
     "metadata": {
      "needs_background": "light"
     },
     "output_type": "display_data"
    }
   ],
   "source": [
    "cm = confusion_matrix(df['management_level_int'], df['pred_int'])\n",
    "cm_norm = []\n",
    "for i in range(cm.shape[0]):\n",
    "    curr_row = cm[i]\n",
    "    cm_norm.append(curr_row / curr_row.sum())\n",
    "\n",
    "cm_norm = np.array(cm_norm)\n",
    "\n",
    "fig,ax = plt.subplots(figsize=(10, 7))\n",
    "_ = sns.heatmap(\n",
    "    cm_norm,\n",
    "    annot=True,\n",
    "    xticklabels=management_level_mapping.keys(),\n",
    "    yticklabels=management_level_mapping.keys(),\n",
    "    ax=ax\n",
    ")\n",
    "\n",
    "plt.title(\"Model's confusion matrix\", fontsize=22, pad=15)\n",
    "plt.xlabel('Prediction', fontsize=16, labelpad=15)\n",
    "plt.ylabel('Label', fontsize=16, labelpad=15)\n",
    "plt.show()"
   ]
  },
  {
   "cell_type": "markdown",
   "id": "5e9b7203",
   "metadata": {},
   "source": [
    "### Number of management levels misses"
   ]
  },
  {
   "cell_type": "code",
   "execution_count": 201,
   "id": "ca416239",
   "metadata": {},
   "outputs": [],
   "source": [
    "df['management_levels_diff'] = df['management_level_int'] - df['pred_int']\n",
    "df['abs_management_levels_diff'] = np.abs(df['management_level_int'] - df['pred_int'])"
   ]
  },
  {
   "cell_type": "code",
   "execution_count": 205,
   "id": "fc66d320",
   "metadata": {},
   "outputs": [
    {
     "data": {
      "text/plain": [
       "(0.15045421130014702, 0.20060123923545473)"
      ]
     },
     "execution_count": 205,
     "metadata": {},
     "output_type": "execute_result"
    }
   ],
   "source": [
    "df['management_levels_diff'].mean(), df['abs_management_levels_diff'].mean()"
   ]
  },
  {
   "cell_type": "code",
   "execution_count": 227,
   "id": "a1fc6250",
   "metadata": {},
   "outputs": [
    {
     "data": {
      "image/png": "[encoded data removed]",
      "text/plain": [
       "<Figure size 1080x360 with 1 Axes>"
      ]
     },
     "metadata": {
      "needs_background": "light"
     },
     "output_type": "display_data"
    }
   ],
   "source": [
    "fig, ax = plt.subplots(figsize=(15, 5))\n",
    "sns.histplot(\n",
    "    df[df['management_levels_diff'] != 0].management_levels_diff,\n",
    "    discrete=True,\n",
    "    label='Histogram',\n",
    "    ax=ax\n",
    ")\n",
    "ax.axvline(df['management_levels_diff'].mean(), color='red', label='Mean value')\n",
    "ax.annotate(\n",
    "    f\"{df['management_levels_diff'].mean():9.4f}\",\n",
    "    xy=(df['management_levels_diff'].mean(), 2000),\n",
    "    color='red'\n",
    ")\n",
    "\n",
    "ax.set_title('Difference between management level and prediction', fontsize=20)\n",
    "ax.set_xlabel(\"management_levels_diff (= management_level_int - pred_int)\", fontsize=14)\n",
    "ax.set_ylabel('Count', fontsize=14)\n",
    "\n",
    "ax.legend()\n",
    "plt.show()"
   ]
  },
  {
   "cell_type": "code",
   "execution_count": 228,
   "id": "940b4d0a",
   "metadata": {},
   "outputs": [
    {
     "data": {
      "image/png": "[encoded data removed]",
      "text/plain": [
       "<Figure size 1080x360 with 1 Axes>"
      ]
     },
     "metadata": {
      "needs_background": "light"
     },
     "output_type": "display_data"
    }
   ],
   "source": [
    "fig, ax = plt.subplots(figsize=(15, 5))\n",
    "sns.histplot(\n",
    "    df[df['abs_management_levels_diff'] != 0].abs_management_levels_diff,\n",
    "    discrete=True,\n",
    "    label='Histogram',\n",
    "    ax=ax\n",
    ")\n",
    "ax.axvline(df['abs_management_levels_diff'].mean(), color='red', label='Mean value')\n",
    "ax.annotate(\n",
    "    f\"{df['abs_management_levels_diff'].mean():9.4f}\",\n",
    "    xy=(df['abs_management_levels_diff'].mean(), 3000),\n",
    "    color='red'\n",
    ")\n",
    "\n",
    "\n",
    "ax.set_title('ABS difference between management level and prediction', fontsize=20)\n",
    "ax.set_xlabel(\"abs_management_levels_diff\", fontsize=14)\n",
    "ax.set_ylabel('Count', fontsize=14)\n",
    "ax.legend()\n",
    "plt.show()"
   ]
  },
  {
   "cell_type": "code",
   "execution_count": 232,
   "id": "aac5f6d4",
   "metadata": {},
   "outputs": [
    {
     "data": {
      "image/png": "[encoded data removed]",
      "text/plain": [
       "<Figure size 1080x360 with 1 Axes>"
      ]
     },
     "metadata": {
      "needs_background": "light"
     },
     "output_type": "display_data"
    }
   ],
   "source": [
    "fig, ax = plt.subplots(figsize=(15, 5))\n",
    "sns.histplot(\n",
    "    df[df['management_levels_diff'] == 3].pred,\n",
    "    discrete=True,\n",
    "    label='Histogram',\n",
    "    ax=ax\n",
    ")\n",
    "\n",
    "ax.set_title('Model predictions of errors of size 3', fontsize=20)\n",
    "ax.set_xlabel(\"Model predictions\", fontsize=14)\n",
    "ax.set_ylabel('Count', fontsize=14)\n",
    "\n",
    "plt.show()"
   ]
  },
  {
   "cell_type": "markdown",
   "id": "90d67a27",
   "metadata": {},
   "source": [
    "## Error analysis"
   ]
  },
  {
   "cell_type": "code",
   "execution_count": 175,
   "id": "e10ca7ee",
   "metadata": {},
   "outputs": [],
   "source": [
    "df['pred'] = df['pred_int'].apply(\n",
    "    lambda management_level_int: management_level_reverse_mapping[management_level_int]\n",
    ")"
   ]
  },
  {
   "cell_type": "code",
   "execution_count": 176,
   "id": "191b0446",
   "metadata": {},
   "outputs": [
    {
     "data": {
      "text/html": [
       "<div>\n",
       "<style scoped>\n",
       "    .dataframe tbody tr th:only-of-type {\n",
       "        vertical-align: middle;\n",
       "    }\n",
       "\n",
       "    .dataframe tbody tr th {\n",
       "        vertical-align: top;\n",
       "    }\n",
       "\n",
       "    .dataframe thead th {\n",
       "        text-align: right;\n",
       "    }\n",
       "</style>\n",
       "<table border=\"1\" class=\"dataframe\">\n",
       "  <thead>\n",
       "    <tr style=\"text-align: right;\">\n",
       "      <th></th>\n",
       "      <th>title_filled</th>\n",
       "      <th>management_level</th>\n",
       "      <th>pred</th>\n",
       "    </tr>\n",
       "  </thead>\n",
       "  <tbody>\n",
       "    <tr>\n",
       "      <th>0</th>\n",
       "      <td>CSO CRM Operations</td>\n",
       "      <td>Other</td>\n",
       "      <td>C-Level</td>\n",
       "    </tr>\n",
       "    <tr>\n",
       "      <th>1</th>\n",
       "      <td>VP of Training and Talent Development</td>\n",
       "      <td>Other</td>\n",
       "      <td>VP-Level</td>\n",
       "    </tr>\n",
       "    <tr>\n",
       "      <th>2</th>\n",
       "      <td>Team Leader, Toyota Customer Service</td>\n",
       "      <td>Other</td>\n",
       "      <td>Manager-Level</td>\n",
       "    </tr>\n",
       "    <tr>\n",
       "      <th>3</th>\n",
       "      <td>Director Information Technology Systems at Amdocs</td>\n",
       "      <td>Other</td>\n",
       "      <td>Director-Level</td>\n",
       "    </tr>\n",
       "  </tbody>\n",
       "</table>\n",
       "</div>"
      ],
      "text/plain": [
       "                                        title_filled management_level  \\\n",
       "0                                 CSO CRM Operations            Other   \n",
       "1              VP of Training and Talent Development            Other   \n",
       "2               Team Leader, Toyota Customer Service            Other   \n",
       "3  Director Information Technology Systems at Amdocs            Other   \n",
       "\n",
       "             pred  \n",
       "0         C-Level  \n",
       "1        VP-Level  \n",
       "2   Manager-Level  \n",
       "3  Director-Level  "
      ]
     },
     "execution_count": 176,
     "metadata": {},
     "output_type": "execute_result"
    }
   ],
   "source": [
    "df[\n",
    "    (df['management_level_int'] == 0) &\n",
    "    (df['management_level_int'] != df['pred_int'])\n",
    "].drop_duplicates(subset='pred_int')[['title_filled', 'management_level', 'pred']].reset_index(drop=True)"
   ]
  },
  {
   "cell_type": "code",
   "execution_count": 177,
   "id": "46718f8d",
   "metadata": {},
   "outputs": [
    {
     "data": {
      "text/html": [
       "<div>\n",
       "<style scoped>\n",
       "    .dataframe tbody tr th:only-of-type {\n",
       "        vertical-align: middle;\n",
       "    }\n",
       "\n",
       "    .dataframe tbody tr th {\n",
       "        vertical-align: top;\n",
       "    }\n",
       "\n",
       "    .dataframe thead th {\n",
       "        text-align: right;\n",
       "    }\n",
       "</style>\n",
       "<table border=\"1\" class=\"dataframe\">\n",
       "  <thead>\n",
       "    <tr style=\"text-align: right;\">\n",
       "      <th></th>\n",
       "      <th>title_filled</th>\n",
       "      <th>management_level</th>\n",
       "      <th>pred</th>\n",
       "    </tr>\n",
       "  </thead>\n",
       "  <tbody>\n",
       "    <tr>\n",
       "      <th>0</th>\n",
       "      <td>Director of Operations</td>\n",
       "      <td>Manager-Level</td>\n",
       "      <td>Director-Level</td>\n",
       "    </tr>\n",
       "    <tr>\n",
       "      <th>1</th>\n",
       "      <td>Manager, CSO &amp; Solutions Operations Section</td>\n",
       "      <td>Manager-Level</td>\n",
       "      <td>C-Level</td>\n",
       "    </tr>\n",
       "    <tr>\n",
       "      <th>2</th>\n",
       "      <td>Training and Onboarding Manage</td>\n",
       "      <td>Manager-Level</td>\n",
       "      <td>Other</td>\n",
       "    </tr>\n",
       "    <tr>\n",
       "      <th>3</th>\n",
       "      <td>VP Operations EMEA</td>\n",
       "      <td>Manager-Level</td>\n",
       "      <td>VP-Level</td>\n",
       "    </tr>\n",
       "  </tbody>\n",
       "</table>\n",
       "</div>"
      ],
      "text/plain": [
       "                                  title_filled management_level  \\\n",
       "0                       Director of Operations    Manager-Level   \n",
       "1  Manager, CSO & Solutions Operations Section    Manager-Level   \n",
       "2               Training and Onboarding Manage    Manager-Level   \n",
       "3                           VP Operations EMEA    Manager-Level   \n",
       "\n",
       "             pred  \n",
       "0  Director-Level  \n",
       "1         C-Level  \n",
       "2           Other  \n",
       "3        VP-Level  "
      ]
     },
     "execution_count": 177,
     "metadata": {},
     "output_type": "execute_result"
    }
   ],
   "source": [
    "df[\n",
    "    (df['management_level_int'] == 1) &\n",
    "    (df['management_level_int'] != df['pred_int'])\n",
    "].drop_duplicates(subset='pred_int')[['title_filled', 'management_level', 'pred']].reset_index(drop=True)"
   ]
  },
  {
   "cell_type": "code",
   "execution_count": 178,
   "id": "029ba345",
   "metadata": {},
   "outputs": [
    {
     "data": {
      "text/html": [
       "<div>\n",
       "<style scoped>\n",
       "    .dataframe tbody tr th:only-of-type {\n",
       "        vertical-align: middle;\n",
       "    }\n",
       "\n",
       "    .dataframe tbody tr th {\n",
       "        vertical-align: top;\n",
       "    }\n",
       "\n",
       "    .dataframe thead th {\n",
       "        text-align: right;\n",
       "    }\n",
       "</style>\n",
       "<table border=\"1\" class=\"dataframe\">\n",
       "  <thead>\n",
       "    <tr style=\"text-align: right;\">\n",
       "      <th></th>\n",
       "      <th>title_filled</th>\n",
       "      <th>management_level</th>\n",
       "      <th>pred</th>\n",
       "    </tr>\n",
       "  </thead>\n",
       "  <tbody>\n",
       "    <tr>\n",
       "      <th>0</th>\n",
       "      <td>VP - Training, Quality &amp; Talent Development</td>\n",
       "      <td>Director-Level</td>\n",
       "      <td>VP-Level</td>\n",
       "    </tr>\n",
       "    <tr>\n",
       "      <th>1</th>\n",
       "      <td>Global Deputy Chief Client Officer</td>\n",
       "      <td>Director-Level</td>\n",
       "      <td>C-Level</td>\n",
       "    </tr>\n",
       "    <tr>\n",
       "      <th>2</th>\n",
       "      <td>Readiness People &amp; Culture Lead, Modern Life, ...</td>\n",
       "      <td>Director-Level</td>\n",
       "      <td>Other</td>\n",
       "    </tr>\n",
       "    <tr>\n",
       "      <th>3</th>\n",
       "      <td>National Program Manager, Tech</td>\n",
       "      <td>Director-Level</td>\n",
       "      <td>Manager-Level</td>\n",
       "    </tr>\n",
       "  </tbody>\n",
       "</table>\n",
       "</div>"
      ],
      "text/plain": [
       "                                        title_filled management_level  \\\n",
       "0        VP - Training, Quality & Talent Development   Director-Level   \n",
       "1                 Global Deputy Chief Client Officer   Director-Level   \n",
       "2  Readiness People & Culture Lead, Modern Life, ...   Director-Level   \n",
       "3                     National Program Manager, Tech   Director-Level   \n",
       "\n",
       "            pred  \n",
       "0       VP-Level  \n",
       "1        C-Level  \n",
       "2          Other  \n",
       "3  Manager-Level  "
      ]
     },
     "execution_count": 178,
     "metadata": {},
     "output_type": "execute_result"
    }
   ],
   "source": [
    "df[\n",
    "    (df['management_level_int'] == 2) &\n",
    "    (df['management_level_int'] != df['pred_int'])\n",
    "].drop_duplicates(subset='pred_int')[['title_filled', 'management_level', 'pred']].reset_index(drop=True)"
   ]
  },
  {
   "cell_type": "code",
   "execution_count": 179,
   "id": "2d0e5bb2",
   "metadata": {},
   "outputs": [
    {
     "data": {
      "text/html": [
       "<div>\n",
       "<style scoped>\n",
       "    .dataframe tbody tr th:only-of-type {\n",
       "        vertical-align: middle;\n",
       "    }\n",
       "\n",
       "    .dataframe tbody tr th {\n",
       "        vertical-align: top;\n",
       "    }\n",
       "\n",
       "    .dataframe thead th {\n",
       "        text-align: right;\n",
       "    }\n",
       "</style>\n",
       "<table border=\"1\" class=\"dataframe\">\n",
       "  <thead>\n",
       "    <tr style=\"text-align: right;\">\n",
       "      <th></th>\n",
       "      <th>title_filled</th>\n",
       "      <th>management_level</th>\n",
       "      <th>pred</th>\n",
       "    </tr>\n",
       "  </thead>\n",
       "  <tbody>\n",
       "    <tr>\n",
       "      <th>0</th>\n",
       "      <td>Executive VP &amp; Chief Financial Officer</td>\n",
       "      <td>VP-Level</td>\n",
       "      <td>C-Level</td>\n",
       "    </tr>\n",
       "    <tr>\n",
       "      <th>1</th>\n",
       "      <td>Global Head, Customer Experience &amp; Enterprise ...</td>\n",
       "      <td>VP-Level</td>\n",
       "      <td>Other</td>\n",
       "    </tr>\n",
       "    <tr>\n",
       "      <th>2</th>\n",
       "      <td>Senior Head of Operations, Operations Manager</td>\n",
       "      <td>VP-Level</td>\n",
       "      <td>Manager-Level</td>\n",
       "    </tr>\n",
       "    <tr>\n",
       "      <th>3</th>\n",
       "      <td>Managing Director / Presidente Philip Morris F...</td>\n",
       "      <td>VP-Level</td>\n",
       "      <td>Director-Level</td>\n",
       "    </tr>\n",
       "  </tbody>\n",
       "</table>\n",
       "</div>"
      ],
      "text/plain": [
       "                                        title_filled management_level  \\\n",
       "0             Executive VP & Chief Financial Officer         VP-Level   \n",
       "1  Global Head, Customer Experience & Enterprise ...         VP-Level   \n",
       "2      Senior Head of Operations, Operations Manager         VP-Level   \n",
       "3  Managing Director / Presidente Philip Morris F...         VP-Level   \n",
       "\n",
       "             pred  \n",
       "0         C-Level  \n",
       "1           Other  \n",
       "2   Manager-Level  \n",
       "3  Director-Level  "
      ]
     },
     "execution_count": 179,
     "metadata": {},
     "output_type": "execute_result"
    }
   ],
   "source": [
    "df[\n",
    "    (df['management_level_int'] == 3) &\n",
    "    (df['management_level_int'] != df['pred_int'])\n",
    "].drop_duplicates(subset='pred_int')[['title_filled', 'management_level', 'pred']].reset_index(drop=True)"
   ]
  },
  {
   "cell_type": "code",
   "execution_count": 180,
   "id": "08493502",
   "metadata": {},
   "outputs": [
    {
     "data": {
      "text/html": [
       "<div>\n",
       "<style scoped>\n",
       "    .dataframe tbody tr th:only-of-type {\n",
       "        vertical-align: middle;\n",
       "    }\n",
       "\n",
       "    .dataframe tbody tr th {\n",
       "        vertical-align: top;\n",
       "    }\n",
       "\n",
       "    .dataframe thead th {\n",
       "        text-align: right;\n",
       "    }\n",
       "</style>\n",
       "<table border=\"1\" class=\"dataframe\">\n",
       "  <thead>\n",
       "    <tr style=\"text-align: right;\">\n",
       "      <th></th>\n",
       "      <th>title_filled</th>\n",
       "      <th>management_level</th>\n",
       "      <th>pred</th>\n",
       "    </tr>\n",
       "  </thead>\n",
       "  <tbody>\n",
       "    <tr>\n",
       "      <th>0</th>\n",
       "      <td>Director</td>\n",
       "      <td>C-Level</td>\n",
       "      <td>Director-Level</td>\n",
       "    </tr>\n",
       "    <tr>\n",
       "      <th>1</th>\n",
       "      <td>Coordinador de Comunicaciones</td>\n",
       "      <td>C-Level</td>\n",
       "      <td>Other</td>\n",
       "    </tr>\n",
       "    <tr>\n",
       "      <th>2</th>\n",
       "      <td>Vice President, Strategic Initiatives (Office ...</td>\n",
       "      <td>C-Level</td>\n",
       "      <td>VP-Level</td>\n",
       "    </tr>\n",
       "    <tr>\n",
       "      <th>3</th>\n",
       "      <td>Deputy Head of Customer Service, Site Manager,...</td>\n",
       "      <td>C-Level</td>\n",
       "      <td>Manager-Level</td>\n",
       "    </tr>\n",
       "  </tbody>\n",
       "</table>\n",
       "</div>"
      ],
      "text/plain": [
       "                                        title_filled management_level  \\\n",
       "0                                           Director          C-Level   \n",
       "1                      Coordinador de Comunicaciones          C-Level   \n",
       "2  Vice President, Strategic Initiatives (Office ...          C-Level   \n",
       "3  Deputy Head of Customer Service, Site Manager,...          C-Level   \n",
       "\n",
       "             pred  \n",
       "0  Director-Level  \n",
       "1           Other  \n",
       "2        VP-Level  \n",
       "3   Manager-Level  "
      ]
     },
     "execution_count": 180,
     "metadata": {},
     "output_type": "execute_result"
    }
   ],
   "source": [
    "df[\n",
    "    (df['management_level_int'] == 4) &\n",
    "    (df['management_level_int'] != df['pred_int'])\n",
    "].drop_duplicates(subset='pred_int')[['title_filled', 'management_level', 'pred']].reset_index(drop=True)"
   ]
  }
 ],
 "metadata": {
  "kernelspec": {
   "display_name": "eta_prediction_env",
   "language": "python",
   "name": "eta_prediction_env"
  },
  "language_info": {
   "codemirror_mode": {
    "name": "ipython",
    "version": 3
   },
   "file_extension": ".py",
   "mimetype": "text/x-python",
   "name": "python",
   "nbconvert_exporter": "python",
   "pygments_lexer": "ipython3",
   "version": "3.7.13"
  }
 },
 "nbformat": 4,
 "nbformat_minor": 5
}
